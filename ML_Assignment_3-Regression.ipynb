ML_Assignment_3-Regression
import pandas as pd
from sklearn.datasets import fetch_california_housing
from sklearn.preprocessing import StandardScaler
from sklearn.model_selection import train_test_split

# Load the California Housing dataset
data = fetch_california_housing()

# Convert the dataset into a pandas DataFrame
df = pd.DataFrame(data=data.data, columns=data.feature_names)

# Add the target (median house value) as the target variable
df['Target'] = data.target

# Check for missing values
print("Missing values in each column:\n", df.isnull().sum())

# Preprocessing: Scaling the features
scaler = StandardScaler()
X = df.drop('Target', axis=1)  # Features
y = df['Target']  # Target variable

# Standardizing the features
X_scaled = scaler.fit_transform(X)

# Split the dataset into training and test sets (80% training, 20% testing)
X_train, X_test, y_train, y_test = train_test_split(X_scaled, y, test_size=0.2, random_state=42)

# Display basic info after preprocessing
print("\nData after preprocessing:")
print(df.head())


from sklearn.linear_model import LinearRegression
from sklearn.tree import DecisionTreeRegressor
from sklearn.ensemble import RandomForestRegressor, GradientBoostingRegressor
from sklearn.svm import SVR
from sklearn.metrics import mean_squared_error, mean_absolute_error, r2_score

# Initialize the models
models = {
    'Linear Regression': LinearRegression(),
    'Decision Tree Regressor': DecisionTreeRegressor(),
    'Random Forest Regressor': RandomForestRegressor(),
    'Gradient Boosting Regressor': GradientBoostingRegressor(),
    'Support Vector Regressor (SVR)': SVR()
}

# Dictionary to store results
results = {}

# Train and evaluate each model
for model_name, model in models.items():
    # Train the model
    model.fit(X_train, y_train)
    
    # Make predictions
    y_pred = model.predict(X_test)
    
    # Calculate performance metrics
    mse = mean_squared_error(y_test, y_pred)
    mae = mean_absolute_error(y_test, y_pred)
    r2 = r2_score(y_test, y_pred)
    
    # Store the results
    results[model_name] = {'MSE': mse, 'MAE': mae, 'R²': r2}
    
    # Print results for each model
    print(f"\n{model_name} - Performance Metrics:")
    print(f"Mean Squared Error (MSE): {mse:.4f}")
    print(f"Mean Absolute Error (MAE): {mae:.4f}")
    print(f"R-squared Score (R²): {r2:.4f}")



# Convert results dictionary to DataFrame for easy comparison
results_df = pd.DataFrame(results).T

# Display comparison of models
print("\nComparison of Models:")
print(results_df)

# Identify best and worst models
best_model = results_df['R²'].idxmax()  # The model with highest R²
worst_model = results_df['R²'].idxmin()  # The model with lowest R²

print(f"\nBest Performing Model: {best_model}")
print(f"Worst Performing Model: {worst_model}")


