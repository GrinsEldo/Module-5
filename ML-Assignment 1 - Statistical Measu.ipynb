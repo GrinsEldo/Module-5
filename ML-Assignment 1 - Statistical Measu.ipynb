ML-Assignment 1 - Statistical Measures
import pandas as pd

# Load the dataset
df = pd.read_csv('house_price.csv')

# Inspect the first few rows of the dataset
print(df.head())

# Summary statistics of the dataset
print(df.describe())

# Check for missing values
print(df.isnull().sum())

# Check data types of columns
print(df.dtypes)

# Calculate mean and standard deviation
mean_price = df['price_per_sqft'].mean()
std_price = df['price_per_sqft'].std()

# Define the outlier threshold using mean +/- 3*std
lower_limit = mean_price - 3 * std_price
upper_limit = mean_price + 3 * std_price

# Filter out the outliers
df_trimmed = df[(df['price_per_sqft'] >= lower_limit) & (df['price_per_sqft'] <= upper_limit)]

# Calculate the 1st and 99th percentiles
lower_percentile = df['price_per_sqft'].quantile(0.01)
upper_percentile = df['price_per_sqft'].quantile(0.99)

# Filter out the outliers
df_percentile = df[(df['price_per_sqft'] >= lower_percentile) & (df['price_per_sqft'] <= upper_percentile)]

# Calculate IQR
Q1 = df['price_per_sqft'].quantile(0.25)
Q3 = df['price_per_sqft'].quantile(0.75)
IQR = Q3 - Q1

# Define the outlier thresholds
lower_limit_iqr = Q1 - 1.5 * IQR
upper_limit_iqr = Q3 + 1.5 * IQR

# Filter out the outliers
df_iqr = df[(df['price_per_sqft'] >= lower_limit_iqr) & (df['price_per_sqft'] <= upper_limit_iqr)]

from scipy import stats

# Calculate Z-scores
z_scores = stats.zscore(df['price_per_sqft'])

# Define outliers as values with Z-score > 3 or < -3
df_zscore = df[(z_scores < 3) & (z_scores > -3)]

import matplotlib.pyplot as plt
import seaborn as sns

# Create box plots for different datasets
plt.figure(figsize=(12, 6))
plt.subplot(1, 4, 1)
sns.boxplot(x=df['price_per_sqft'])
plt.title('Original Data')

plt.subplot(1, 4, 2)
sns.boxplot(x=df_trimmed['price_per_sqft'])
plt.title('After Trimming')

plt.subplot(1, 4, 3)
sns.boxplot(x=df_percentile['price_per_sqft'])
plt.title('After Percentile')

plt.subplot(1, 4, 4)
sns.boxplot(x=df_iqr['price_per_sqft'])
plt.title('After IQR')

plt.tight_layout()
plt.show()

# Histplot for the original data
sns.histplot(df['price_per_sqft'], kde=True)
plt.title('Original Price per Sqft Distribution')
plt.show()

# Check skewness and kurtosis
from scipy.stats import kurtosis, skew

original_skewness = skew(df['price_per_sqft'])
original_kurtosis = kurtosis(df['price_per_sqft'])

print(f"Original Skewness: {original_skewness}")
print(f"Original Kurtosis: {original_kurtosis}")

# Apply log transformation if data is skewed
df['log_price_per_sqft'] = df['price_per_sqft'].apply(lambda x: np.log(x) if x > 0 else 0)

# Histplot for the transformed data
sns.histplot(df['log_price_per_sqft'], kde=True)
plt.title('Log Transformed Price per Sqft Distribution')
plt.show()

# Check skewness and kurtosis after transformation
transformed_skewness = skew(df['log_price_per_sqft'])
transformed_kurtosis = kurtosis(df['log_price_per_sqft'])

print(f"Transformed Skewness: {transformed_skewness}")
print(f"Transformed Kurtosis: {transformed_kurtosis}")

# Calculate the correlation matrix
corr_matrix = df.corr()

# Plot the heatmap
plt.figure(figsize=(10, 8))
sns.heatmap(corr_matrix, annot=True, cmap='coolwarm', fmt='.2f')
plt.title('Correlation Matrix')
plt.show()

# Scatter plot for 'price_per_sqft' vs. 'area'
sns.scatterplot(x=df['area'], y=df['price_per_sqft'])
plt.title('Price per Sqft vs Area')
plt.xlabel('Area')
plt.ylabel('Price per Sqft')
plt.show()

