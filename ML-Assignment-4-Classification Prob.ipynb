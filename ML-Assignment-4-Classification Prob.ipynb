ML-Assignment-4-Classification Problem


from sklearn.datasets import load_breast_cancer
from sklearn.model_selection import train_test_split
from sklearn.preprocessing import StandardScaler

# Load the breast cancer dataset
data = load_breast_cancer()
X = data.data
y = data.target

# Split the dataset into training and testing sets
X_train, X_test, y_train, y_test = train_test_split(X, y, test_size=0.3, random_state=42)

# Feature scaling
scaler = StandardScaler()
X_train_scaled = scaler.fit_transform(X_train)
X_test_scaled = scaler.transform(X_test)

# Check if there are any missing values
import numpy as np
print(np.isnan(X_train_scaled).sum())  # Should return 0 if there are no missing values

from sklearn.linear_model import LogisticRegression
from sklearn.metrics import accuracy_score

# Instantiate the model
logreg = LogisticRegression()

# Train the model
logreg.fit(X_train_scaled, y_train)

# Predict on test data
y_pred_logreg = logreg.predict(X_test_scaled)

# Evaluate accuracy
accuracy_logreg = accuracy_score(y_test, y_pred_logreg)
print(f"Logistic Regression Accuracy: {accuracy_logreg}")

from sklearn.tree import DecisionTreeClassifier

# Instantiate the model
dt = DecisionTreeClassifier(random_state=42)

# Train the model
dt.fit(X_train_scaled, y_train)

# Predict on test data
y_pred_dt = dt.predict(X_test_scaled)

# Evaluate accuracy
accuracy_dt = accuracy_score(y_test, y_pred_dt)
print(f"Decision Tree Accuracy: {accuracy_dt}")

from sklearn.ensemble import RandomForestClassifier

# Instantiate the model
rf = RandomForestClassifier(random_state=42)

# Train the model
rf.fit(X_train_scaled, y_train)

# Predict on test data
y_pred_rf = rf.predict(X_test_scaled)

# Evaluate accuracy
accuracy_rf = accuracy_score(y_test, y_pred_rf)
print(f"Random Forest Accuracy: {accuracy_rf}")

from sklearn.svm import SVC

# Instantiate the model
svm = SVC(random_state=42)

# Train the model
svm.fit(X_train_scaled, y_train)

# Predict on test data
y_pred_svm = svm.predict(X_test_scaled)

# Evaluate accuracy
accuracy_svm = accuracy_score(y_test, y_pred_svm)
print(f"SVM Accuracy: {accuracy_svm}")

from sklearn.neighbors import KNeighborsClassifier

# Instantiate the model
knn = KNeighborsClassifier()

# Train the model
knn.fit(X_train_scaled, y_train)

# Predict on test data
y_pred_knn = knn.predict(X_test_scaled)

# Evaluate accuracy
accuracy_knn = accuracy_score(y_test, y_pred_knn)
print(f"k-NN Accuracy: {accuracy_knn}")

# Create a dictionary to store the accuracies
accuracies = {
    "Logistic Regression": accuracy_logreg,
    "Decision Tree": accuracy_dt,
    "Random Forest": accuracy_rf,
    "SVM": accuracy_svm,
    "k-NN": accuracy_knn
}

# Sort and display the results
best_model = max(accuracies, key=accuracies.get)
worst_model = min(accuracies, key=accuracies.get)

print(f"Best Model: {best_model} with Accuracy: {accuracies[best_model]}")
print(f"Worst Model: {worst_model} with Accuracy: {accuracies[worst_model]}")

